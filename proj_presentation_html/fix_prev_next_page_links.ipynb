{
 "cells": [
  {
   "cell_type": "code",
   "execution_count": 1,
   "metadata": {},
   "outputs": [
    {
     "name": "stdout",
     "output_type": "stream",
     "text": [
      "./\n",
      "./img\n"
     ]
    }
   ],
   "source": [
    "### fix the links for prev and next pages\n",
    "\n",
    "import os\n",
    "import numpy as np\n",
    "import pandas as pd\n",
    "\n",
    "path = './'\n",
    "\n",
    "ALL_PAGE_FILE_PREFIX = 'page'\n",
    "\n",
    "def extract_page_number (filename):\n",
    "    return int(filename.replace(ALL_PAGE_FILE_PREFIX, '')[0:3])\n",
    "\n",
    "\n",
    "### only include pages in these\n",
    "ls_filename = []\n",
    "ls_filenum  = []\n",
    "\n",
    "### find all html page files\n",
    "for root, dirs, files in os.walk(path):\n",
    "    if root == path:\n",
    "        ### get a list of page numbers of all presentation pages,\n",
    "        ### not including plot files etc.\n",
    "        for name in files:\n",
    "            if ALL_PAGE_FILE_PREFIX in name[0:len(ALL_PAGE_FILE_PREFIX)]:\n",
    "                ls_filename.append(name)\n",
    "                ls_filenum.append(extract_page_number(name))\n",
    "\n",
    "### add \"the_end.html\" at the end\n",
    "ls_filename.append('the_end.html')\n",
    "ls_filenum.append(99999)\n",
    "\n",
    "sr_filename = pd.Series(ls_filename, name='filename')\n",
    "sr_filenum  = pd.Series(ls_filenum,  name='filenum')\n",
    "\n",
    "df_all_page_files = pd.DataFrame(sr_filename)\n",
    "df_all_page_files = df_all_page_files.merge(sr_filenum, how='outer', left_index=True, right_index=True)\n",
    "\n",
    "df_all_page_files = df_all_page_files.sort_values('filenum', ascending=True).reset_index(drop=True)\n",
    "\n",
    "def fix_one_html_file (row_idx : int):\n",
    "    global df_all_page_files\n",
    "\n",
    "    filename = df_all_page_files.iloc[row_idx].loc['filename']\n",
    "\n",
    "    filename_prev = '#'\n",
    "    filename_next = 'the_end.html'\n",
    "\n",
    "    ### except first file\n",
    "    if row_idx != 0:\n",
    "        filename_prev = df_all_page_files.iloc[row_idx - 1].loc['filename']\n",
    "\n",
    "    ### except last file\n",
    "    if row_idx != df_all_page_files.index.max():\n",
    "        filename_next = df_all_page_files.iloc[row_idx + 1].loc['filename']\n",
    "\n",
    "    s = open(filename, 'rt', encoding='utf-8').read()\n",
    "\n",
    "    s1 = s\n",
    "\n",
    "    n_idx_id_prev_page = s1.find('id=\"prev_page\">')\n",
    "    n_idx_href_prev_page = s1.rfind('href=', 0, n_idx_id_prev_page)\n",
    "    s1 = s1[0:n_idx_href_prev_page] + f'href=\"{filename_prev}\" ' + s1[n_idx_id_prev_page:]\n",
    "\n",
    "    n_idx_id_next_page = s1.find('id=\"next_page\">')\n",
    "    n_idx_href_next_page = s1.rfind('href=', 0, n_idx_id_next_page)\n",
    "    s1 = s1[0:n_idx_href_next_page] + f'href=\"{filename_next}\" ' + s1[n_idx_id_next_page:]\n",
    "\n",
    "    if s1 != s:\n",
    "        with open(filename, 'wt', encoding='utf-8') as f:\n",
    "            f.write(s1)\n",
    "\n",
    "\n",
    "f1 = np.vectorize(fix_one_html_file, cache=True)(df_all_page_files.index)\n",
    "\n",
    "#fix_one_html_file(0)\n"
   ]
  }
 ],
 "metadata": {
  "kernelspec": {
   "display_name": "venv",
   "language": "python",
   "name": "python3"
  },
  "language_info": {
   "codemirror_mode": {
    "name": "ipython",
    "version": 3
   },
   "file_extension": ".py",
   "mimetype": "text/x-python",
   "name": "python",
   "nbconvert_exporter": "python",
   "pygments_lexer": "ipython3",
   "version": "3.12.8"
  },
  "orig_nbformat": 4
 },
 "nbformat": 4,
 "nbformat_minor": 2
}
